{
 "cells": [
  {
   "cell_type": "code",
   "execution_count": null,
   "id": "a4c91c5a",
   "metadata": {},
   "outputs": [],
   "source": [
    "#Devina Garcia \n",
    "#GIS Skills Test "
   ]
  },
  {
   "cell_type": "code",
   "execution_count": 21,
   "id": "43c3205a",
   "metadata": {},
   "outputs": [],
   "source": [
    "import os"
   ]
  },
  {
   "cell_type": "code",
   "execution_count": 22,
   "id": "f7650b54",
   "metadata": {},
   "outputs": [
    {
     "data": {
      "text/plain": [
       "'/Users/devinagarcia'"
      ]
     },
     "execution_count": 22,
     "metadata": {},
     "output_type": "execute_result"
    }
   ],
   "source": [
    "os.getcwd()"
   ]
  },
  {
   "cell_type": "code",
   "execution_count": 44,
   "id": "37a6e7b2",
   "metadata": {},
   "outputs": [],
   "source": [
    "#Install packages\n",
    "import pandas as pd\n",
    "import geopandas as gpd\n",
    "from shapely.geometry import Point\n",
    "%matplotlib inline"
   ]
  },
  {
   "cell_type": "code",
   "execution_count": 45,
   "id": "2f83b6c2",
   "metadata": {},
   "outputs": [
    {
     "data": {
      "text/plain": [
       "array([3639.25, 3594.69, 3781.84, 3310.95])"
      ]
     },
     "execution_count": 45,
     "metadata": {},
     "output_type": "execute_result"
    }
   ],
   "source": [
    "#Download Buildings.shp \n",
    "\n",
    "buildings = gpd.read_file(\"Downloads/Buildings.shp\")\n",
    "buildings = buildings[['Bldg_ID','Shape_Area']]\n",
    "buildings = buildings.drop(labels= range(4,8), axis=0)\n",
    "\n",
    "#create an array of building areas for buildings A-D in order\n",
    "buildings = np.array([3639.25,3594.69,3781.84,3310.95])\n",
    "\n",
    "buildings"
   ]
  },
  {
   "cell_type": "code",
   "execution_count": 46,
   "id": "bfbe0d87",
   "metadata": {},
   "outputs": [
    {
     "data": {
      "text/plain": [
       "33819.49"
      ]
     },
     "execution_count": 46,
     "metadata": {},
     "output_type": "execute_result"
    }
   ],
   "source": [
    "#Download Impervious Surfaces shapefile\n",
    "\n",
    "imp_surfaces = gpd.read_file(\"Downloads/Impervious_Surface.shp\")\n",
    "imp_surfaces = imp_surfaces[['Shape_Area']]\n",
    "\n",
    "#imp_surfaces will be equal to the area of it's surface\n",
    "imp_surfaces = 33819.49\n",
    "imp_surfaces\n"
   ]
  },
  {
   "cell_type": "code",
   "execution_count": 47,
   "id": "b3abcc8d",
   "metadata": {},
   "outputs": [],
   "source": [
    "import numpy as np"
   ]
  },
  {
   "cell_type": "code",
   "execution_count": 48,
   "id": "6f270d39",
   "metadata": {},
   "outputs": [
    {
     "data": {
      "text/plain": [
       "array([0.46666667, 0.49166667, 0.34166667, 0.09166667, 0.05      ,\n",
       "       0.00833333, 0.00083333, 0.00083333, 0.00833333, 0.075     ,\n",
       "       0.11666667, 0.275     ])"
      ]
     },
     "execution_count": 48,
     "metadata": {},
     "output_type": "execute_result"
    }
   ],
   "source": [
    "#create an array of the avg. monthly precipatation amounts for this area in INCHES\n",
    "\n",
    "avgprecip = np.array([5.6,5.9,4.1,1.1,0.6,0.1,.01,.01,0.1,0.9,1.4,3.3])\n",
    "\n",
    "#convert inches to feet by dividing by 12 inches ...\n",
    "# return should avg. monthly  precip in feet \n",
    "avgprecip = avgprecip/12\n",
    "avgprecip"
   ]
  },
  {
   "cell_type": "code",
   "execution_count": 49,
   "id": "a1aa8fcf",
   "metadata": {},
   "outputs": [
    {
     "data": {
      "text/plain": [
       "array([100344.68146267, 105720.28939817,  73466.64178517,  19710.56243017,\n",
       "        10751.215871  ,   1791.86931183,    179.18693118,    179.18693118,\n",
       "         1791.86931183,  16126.8238065 ,  25086.17036567,  59131.6872905 ])"
      ]
     },
     "execution_count": 49,
     "metadata": {},
     "output_type": "execute_result"
    }
   ],
   "source": [
    "# create an equation to calculate rainwater collection potential at a 85% efficiency rate for buildings A through D, and Impervious Surfaces \n",
    "# output unit should be in gallons \n",
    "# buildings = area of building (x) \n",
    "# avgprecip= avg. monthly precip amounts in ft. \n",
    "# .85 is equal to 85% collection efficiency rate\n",
    "#7.48 is equal to the conversion rate of gallons per cubic foot \n",
    "\n",
    "#rainwater collection potential for Building A \n",
    "rainwater_collection_A = buildings[0]*avgprecip*.85*7.48\n",
    "\n",
    "#rainwater collection potential for Building B \n",
    "rainwater_collection_B = buildings[1]*avgprecip*.85*7.48\n",
    "\n",
    "#rainwater collection potential for Building C\n",
    "rainwater_collection_C = buildings[2]*avgprecip*.85*7.48\n",
    "\n",
    "#rainwater collection potential for Building D\n",
    "rainwater_collection_D = buildings[3]*avgprecip*.85*7.48\n",
    "\n",
    "#calculation for rainwater collection potential for impervious surface area\n",
    "rainwater_collection_imp = imp_surfaces*avgprecip*.85*7.48\n",
    "\n",
    "rainwater_collection_imp\n",
    "\n"
   ]
  },
  {
   "cell_type": "code",
   "execution_count": 50,
   "id": "476b6b15",
   "metadata": {},
   "outputs": [],
   "source": [
    "#Array of months in a year\n",
    "months = np.array([\"Jan\",\"Feb\",\"Mar\",\"Apr\",\"May\",\"Jun\",\"July\",\"Aug\",\"Sep\",\"Oct\",\"Nov\",\"Dec\"])"
   ]
  },
  {
   "cell_type": "code",
   "execution_count": 51,
   "id": "f4a93567",
   "metadata": {},
   "outputs": [
    {
     "data": {
      "text/html": [
       "<div>\n",
       "<style scoped>\n",
       "    .dataframe tbody tr th:only-of-type {\n",
       "        vertical-align: middle;\n",
       "    }\n",
       "\n",
       "    .dataframe tbody tr th {\n",
       "        vertical-align: top;\n",
       "    }\n",
       "\n",
       "    .dataframe thead th {\n",
       "        text-align: right;\n",
       "    }\n",
       "</style>\n",
       "<table border=\"1\" class=\"dataframe\">\n",
       "  <thead>\n",
       "    <tr style=\"text-align: right;\">\n",
       "      <th></th>\n",
       "      <th>months</th>\n",
       "      <th>Bld_A</th>\n",
       "      <th>Bld_B</th>\n",
       "      <th>Bld_C</th>\n",
       "      <th>Bld_D</th>\n",
       "      <th>Imp_Surface</th>\n",
       "    </tr>\n",
       "  </thead>\n",
       "  <tbody>\n",
       "    <tr>\n",
       "      <th>0</th>\n",
       "      <td>Jan</td>\n",
       "      <td>10797.897367</td>\n",
       "      <td>10665.684876</td>\n",
       "      <td>11220.971403</td>\n",
       "      <td>9823.809380</td>\n",
       "      <td>100344.681463</td>\n",
       "    </tr>\n",
       "    <tr>\n",
       "      <th>1</th>\n",
       "      <td>Feb</td>\n",
       "      <td>11376.356154</td>\n",
       "      <td>11237.060852</td>\n",
       "      <td>11822.094871</td>\n",
       "      <td>10350.084882</td>\n",
       "      <td>105720.289398</td>\n",
       "    </tr>\n",
       "    <tr>\n",
       "      <th>2</th>\n",
       "      <td>Mar</td>\n",
       "      <td>7905.603429</td>\n",
       "      <td>7808.804998</td>\n",
       "      <td>8215.354063</td>\n",
       "      <td>7192.431867</td>\n",
       "      <td>73466.641785</td>\n",
       "    </tr>\n",
       "    <tr>\n",
       "      <th>3</th>\n",
       "      <td>Apr</td>\n",
       "      <td>2121.015554</td>\n",
       "      <td>2095.045244</td>\n",
       "      <td>2204.119383</td>\n",
       "      <td>1929.676843</td>\n",
       "      <td>19710.562430</td>\n",
       "    </tr>\n",
       "    <tr>\n",
       "      <th>4</th>\n",
       "      <td>May</td>\n",
       "      <td>1156.917575</td>\n",
       "      <td>1142.751951</td>\n",
       "      <td>1202.246936</td>\n",
       "      <td>1052.551005</td>\n",
       "      <td>10751.215871</td>\n",
       "    </tr>\n",
       "    <tr>\n",
       "      <th>5</th>\n",
       "      <td>Jun</td>\n",
       "      <td>192.819596</td>\n",
       "      <td>190.458659</td>\n",
       "      <td>200.374489</td>\n",
       "      <td>175.425168</td>\n",
       "      <td>1791.869312</td>\n",
       "    </tr>\n",
       "    <tr>\n",
       "      <th>6</th>\n",
       "      <td>July</td>\n",
       "      <td>19.281960</td>\n",
       "      <td>19.045866</td>\n",
       "      <td>20.037449</td>\n",
       "      <td>17.542517</td>\n",
       "      <td>179.186931</td>\n",
       "    </tr>\n",
       "    <tr>\n",
       "      <th>7</th>\n",
       "      <td>Aug</td>\n",
       "      <td>19.281960</td>\n",
       "      <td>19.045866</td>\n",
       "      <td>20.037449</td>\n",
       "      <td>17.542517</td>\n",
       "      <td>179.186931</td>\n",
       "    </tr>\n",
       "    <tr>\n",
       "      <th>8</th>\n",
       "      <td>Sep</td>\n",
       "      <td>192.819596</td>\n",
       "      <td>190.458659</td>\n",
       "      <td>200.374489</td>\n",
       "      <td>175.425168</td>\n",
       "      <td>1791.869312</td>\n",
       "    </tr>\n",
       "    <tr>\n",
       "      <th>9</th>\n",
       "      <td>Oct</td>\n",
       "      <td>1735.376362</td>\n",
       "      <td>1714.127926</td>\n",
       "      <td>1803.370404</td>\n",
       "      <td>1578.826507</td>\n",
       "      <td>16126.823806</td>\n",
       "    </tr>\n",
       "    <tr>\n",
       "      <th>10</th>\n",
       "      <td>Nov</td>\n",
       "      <td>2699.474342</td>\n",
       "      <td>2666.421219</td>\n",
       "      <td>2805.242851</td>\n",
       "      <td>2455.952345</td>\n",
       "      <td>25086.170366</td>\n",
       "    </tr>\n",
       "    <tr>\n",
       "      <th>11</th>\n",
       "      <td>Dec</td>\n",
       "      <td>6363.046662</td>\n",
       "      <td>6285.135731</td>\n",
       "      <td>6612.358148</td>\n",
       "      <td>5789.030527</td>\n",
       "      <td>59131.687290</td>\n",
       "    </tr>\n",
       "  </tbody>\n",
       "</table>\n",
       "</div>"
      ],
      "text/plain": [
       "   months         Bld_A         Bld_B         Bld_C         Bld_D  \\\n",
       "0     Jan  10797.897367  10665.684876  11220.971403   9823.809380   \n",
       "1     Feb  11376.356154  11237.060852  11822.094871  10350.084882   \n",
       "2     Mar   7905.603429   7808.804998   8215.354063   7192.431867   \n",
       "3     Apr   2121.015554   2095.045244   2204.119383   1929.676843   \n",
       "4     May   1156.917575   1142.751951   1202.246936   1052.551005   \n",
       "5     Jun    192.819596    190.458659    200.374489    175.425168   \n",
       "6    July     19.281960     19.045866     20.037449     17.542517   \n",
       "7     Aug     19.281960     19.045866     20.037449     17.542517   \n",
       "8     Sep    192.819596    190.458659    200.374489    175.425168   \n",
       "9     Oct   1735.376362   1714.127926   1803.370404   1578.826507   \n",
       "10    Nov   2699.474342   2666.421219   2805.242851   2455.952345   \n",
       "11    Dec   6363.046662   6285.135731   6612.358148   5789.030527   \n",
       "\n",
       "      Imp_Surface  \n",
       "0   100344.681463  \n",
       "1   105720.289398  \n",
       "2    73466.641785  \n",
       "3    19710.562430  \n",
       "4    10751.215871  \n",
       "5     1791.869312  \n",
       "6      179.186931  \n",
       "7      179.186931  \n",
       "8     1791.869312  \n",
       "9    16126.823806  \n",
       "10   25086.170366  \n",
       "11   59131.687290  "
      ]
     },
     "execution_count": 51,
     "metadata": {},
     "output_type": "execute_result"
    }
   ],
   "source": [
    "# 1a. Assuming an 85% collection efficiency rate, provide a table showing monthly\n",
    "#rainwater collection potential for buildings A through D.\n",
    "\n",
    "#dataFrame Table of monthly rainwater collection potential for Buildings A-D ... \n",
    "#AND for Impervious Surfaces in (gallons per cubic feet) at a 85% collection effiecency rate \n",
    "\n",
    "\n",
    "d= {'months':months, 'Bld_A':rainwater_collection_A, 'Bld_B':rainwater_collection_B,'Bld_C':rainwater_collection_C,'Bld_D':rainwater_collection_D,'Imp_Surface':rainwater_collection_imp}\n",
    "pd.DataFrame(data=d)"
   ]
  },
  {
   "cell_type": "code",
   "execution_count": 61,
   "id": "8828d22b",
   "metadata": {},
   "outputs": [
    {
     "data": {
      "text/plain": [
       "'About 414280.18 gallons of rainwater could be collected from the area shown in the Impervious Surface shapefile each year at a 85% efficency rate.'"
      ]
     },
     "execution_count": 61,
     "metadata": {},
     "output_type": "execute_result"
    }
   ],
   "source": [
    "# b. How much precipitation could be collected from the area shown in the Impervious_Surface shapefile each year?\n",
    "\n",
    "Imp_Surf_Collection = d['Imp_Surface'].sum()\n",
    "Imp_Surf_Collection\n",
    "\n",
    "\"1b. About 414280.18 gallons of rainwater could be collected from the area shown in the Impervious Surface shapefile each year at a 85% efficency rate.\" "
   ]
  },
  {
   "cell_type": "code",
   "execution_count": 59,
   "id": "c96ec9f5",
   "metadata": {},
   "outputs": [
    {
     "data": {
      "text/plain": [
       "'  To perform this assignment I would use the ArcGIS Pro software. In order to make a vector layer that can delineate building footprints and ground level impervious surfaces for a suburban area that is 90 square miles, I would first need to compile the most recent multispectral aerial imagery of the study site with at least four spectral bands (Red, Green, Blue, Near Infrared). I would then need the shapefile for the building footprints of the study site that will serve as a polygon feature class. I would then create a false color image of the study site using the Near Infrared - Red - Blue (RGB) combination to distinguish impervious surfaces from pervious surfaces. Under this false color composite vegetation (pervious surfaces) will appear red, while roads and roofs (impervious surfaces) will appear a grayish color. I would then overlap the building footprint polygons over the false color composite to get a more concise look of the bordering of the rooftops amongst the various land covers. I could then perform a supervised classification on the three landcovers; building footprints, impervious surfaces, and pervious surfaces. This will be done by creating training samples of each defined land cover using the overlapped false color composite. Once you train the classification machine, you will assign each land cover to a color. If you properly trained each land cover class, each land cover class will be displayed in its assigned color. Roofs, impervious surfaces, and pervious surfaces will thus be distinguished by color.'"
      ]
     },
     "execution_count": 59,
     "metadata": {},
     "output_type": "execute_result"
    }
   ],
   "source": [
    "# 2. You have been asked to make a vector layer that delineates building \n",
    "#footprints and ground-level impervious surfaces for a suburban area that is 90 square miles. \n",
    "#How would you go about accomplishing this task? What data would you need?\n",
    "\n",
    "\" 2. To perform this assignment I would use the ArcGIS Pro software. In order to make a vector layer that can delineate building footprints and ground level impervious surfaces for a suburban area that is 90 square miles, I would first need to compile the most recent multispectral aerial imagery of the study site with at least four spectral bands (Red, Green, Blue, Near Infrared). I would then need the shapefile for the building footprints of the study site that will serve as a polygon feature class. I would then create a false color image of the study site using the Near Infrared - Red - Blue (RGB) combination to distinguish impervious surfaces from pervious surfaces. Under this false color composite vegetation (pervious surfaces) will appear red, while roads and roofs (impervious surfaces) will appear a grayish color. I would then overlap the building footprint polygons over the false color composite to get a more concise look of the bordering of the rooftops amongst the various land covers. I could then perform a supervised classification on the three landcovers; building footprints, impervious surfaces, and pervious surfaces. This will be done by creating training samples of each defined land cover using the overlapped false color composite. Once you train the classification machine, you will assign each land cover to a color. If you properly trained each land cover class, each land cover class will be displayed in its assigned color. Roofs, impervious surfaces, and pervious surfaces will thus be distinguished by color.\" "
   ]
  },
  {
   "cell_type": "code",
   "execution_count": null,
   "id": "6c3bc8bd",
   "metadata": {},
   "outputs": [],
   "source": []
  },
  {
   "cell_type": "code",
   "execution_count": null,
   "id": "28492164",
   "metadata": {},
   "outputs": [],
   "source": []
  }
 ],
 "metadata": {
  "kernelspec": {
   "display_name": "Python 3 (ipykernel)",
   "language": "python",
   "name": "python3"
  },
  "language_info": {
   "codemirror_mode": {
    "name": "ipython",
    "version": 3
   },
   "file_extension": ".py",
   "mimetype": "text/x-python",
   "name": "python",
   "nbconvert_exporter": "python",
   "pygments_lexer": "ipython3",
   "version": "3.9.12"
  }
 },
 "nbformat": 4,
 "nbformat_minor": 5
}
